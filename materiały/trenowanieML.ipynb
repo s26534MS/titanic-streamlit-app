{
 "cells": [
  {
   "cell_type": "markdown",
   "id": "7a96f4da",
   "metadata": {},
   "source": [
    "### 1. Import bibliotek"
   ]
  },
  {
   "cell_type": "code",
   "execution_count": null,
   "id": "tribal-advertising",
   "metadata": {},
   "outputs": [],
   "source": [
    "import pandas as pd\n",
    "from sklearn.preprocessing import LabelEncoder\n",
    "from sklearn.model_selection import train_test_split\n",
    "from sklearn.ensemble import RandomForestClassifier\n",
    "import pickle"
   ]
  },
  {
   "cell_type": "markdown",
   "id": "2feb2c32",
   "metadata": {},
   "source": [
    "### 2. Przygotowanie modelu"
   ]
  },
  {
   "cell_type": "markdown",
   "id": "3d449777",
   "metadata": {},
   "source": [
    "Wykorzystamy kod z poprzednich zajęć do wytrenowania modelu szacującego zmienną \"survived\""
   ]
  },
  {
   "cell_type": "code",
   "execution_count": null,
   "id": "forced-reporter",
   "metadata": {},
   "outputs": [],
   "source": [
    "base_data = pd.read_csv(\"DSP_1.csv\")\n",
    "base_data.columns\n",
    "\n",
    "cols = [\"Survived\", \"Pclass\", \"Sex\", \"Age\", \"SibSp\", \"Parch\", \"Fare\", \"Embarked\"]\n",
    "data = base_data[cols].copy()\n",
    "\n",
    "data[\"Age\"].fillna((data[\"Age\"].mean()), inplace=True) # wypełni nam brakujące informacje średnią\n",
    "data.dropna(subset=['Embarked'], inplace=True)\n",
    "\n",
    "encoder = LabelEncoder()\n",
    "data.loc[:,\"Sex\"] = encoder.fit_transform(data.loc[:,\"Sex\"])\n",
    "data.loc[:,\"Embarked\"] = encoder.fit_transform(data.loc[:,\"Embarked\"])\n",
    "\n",
    "y = data.iloc[:,0]\n",
    "x = data.iloc[:,1:8]\n",
    "X_train, X_test, y_train, y_test = train_test_split(x, y, test_size = 0.2, random_state = 0)\n",
    "\n",
    "def model(X_train, y_train):\n",
    "    \n",
    "    forest = RandomForestClassifier (n_estimators=20, random_state=0)\n",
    "    forest.fit(X_train,y_train)\n",
    "    print(\"Random Forest: {0}\".format(forest.score(X_train,y_train)))\n",
    "    \n",
    "    return forest\n",
    "\n",
    "forest = model(X_train,y_train)"
   ]
  },
  {
   "cell_type": "code",
   "execution_count": null,
   "id": "d5b1af80",
   "metadata": {},
   "outputs": [],
   "source": [
    "my_data =[\n",
    "            [\n",
    "             1,  #\"Pclass\"\n",
    "             1,  #\"Sex\", Sex 0 = Female, 1 = Male\n",
    "             50,  #\"Age\", Age\n",
    "             0,  #\"SibSp\"\n",
    "             0,  #\"Parch\"\n",
    "             0,  #\"Fare\", \n",
    "             2,  #\"Embarked\"\n",
    "    ]\n",
    "]\n",
    "\n",
    "print(forest.predict(my_data))\n",
    "\n",
    "my_data =[\n",
    "            [\n",
    "             1,  #\"Pclass\"\n",
    "             0,  #\"Sex\", Sex 0 = Female, 1 = Male\n",
    "             20,  #\"Age\", Age\n",
    "             1,  #\"SibSp\"\n",
    "             0,  #\"Parch\"\n",
    "             0,  #\"Fare\", \n",
    "             2,  #\"Embarked\"\n",
    "    ]\n",
    "]\n",
    "\n",
    "print(forest.predict(my_data))"
   ]
  },
  {
   "cell_type": "markdown",
   "id": "53d1e31a",
   "metadata": {},
   "source": [
    "Teraz jesteśmy gotowi do wyeksportowania naszego modelu do .pkl"
   ]
  },
  {
   "cell_type": "code",
   "execution_count": null,
   "id": "8f6efed7",
   "metadata": {},
   "outputs": [],
   "source": [
    "filename = \"model.sv\"\n",
    "pickle.dump(forest, open(filename,'wb'))"
   ]
  },
  {
   "cell_type": "markdown",
   "id": "9047beea",
   "metadata": {},
   "source": [
    "Dalszą część pracy wykonujemy już poza Jupyter Notebook. Przenosimy się do pliku app.py."
   ]
  }
 ],
 "metadata": {
  "kernelspec": {
   "display_name": "Python 3 (ipykernel)",
   "language": "python",
   "name": "python3"
  },
  "language_info": {
   "codemirror_mode": {
    "name": "ipython",
    "version": 3
   },
   "file_extension": ".py",
   "mimetype": "text/x-python",
   "name": "python",
   "nbconvert_exporter": "python",
   "pygments_lexer": "ipython3",
   "version": "3.8.12"
  }
 },
 "nbformat": 4,
 "nbformat_minor": 5
}
